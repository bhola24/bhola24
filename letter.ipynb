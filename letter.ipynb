{
 "cells": [
  {
   "cell_type": "code",
   "execution_count": 52,
   "id": "1870c774",
   "metadata": {},
   "outputs": [],
   "source": [
    "import pandas as pd\n",
    "import numpy as np\n",
    "from sklearn.model_selection import train_test_split"
   ]
  },
  {
   "cell_type": "code",
   "execution_count": 53,
   "id": "a5aa7a9a",
   "metadata": {},
   "outputs": [],
   "source": [
    "columns = [\"lettr\", \"x-box\", \"y-box\", \"width\", \"height\", \"onpix\", \"x-bar\",\"y-bar\", \"x2bar\", \"y2bar\", \"xybar\", \"x2ybr\", \"xy2br\", \"x-ege\", \"xegvy\",\"y-ege\", \"yegvx\"]"
   ]
  },
  {
   "cell_type": "code",
   "execution_count": 54,
   "id": "1d884031",
   "metadata": {},
   "outputs": [],
   "source": [
    "df = pd.read_csv(r\"C:\\Users\\PRANAV\\Downloads\\letter.data\", names=columns)"
   ]
  },
  {
   "cell_type": "code",
   "execution_count": 55,
   "id": "11ef799f",
   "metadata": {
    "scrolled": true
   },
   "outputs": [
    {
     "data": {
      "text/html": [
       "<div>\n",
       "<style scoped>\n",
       "    .dataframe tbody tr th:only-of-type {\n",
       "        vertical-align: middle;\n",
       "    }\n",
       "\n",
       "    .dataframe tbody tr th {\n",
       "        vertical-align: top;\n",
       "    }\n",
       "\n",
       "    .dataframe thead th {\n",
       "        text-align: right;\n",
       "    }\n",
       "</style>\n",
       "<table border=\"1\" class=\"dataframe\">\n",
       "  <thead>\n",
       "    <tr style=\"text-align: right;\">\n",
       "      <th></th>\n",
       "      <th>lettr</th>\n",
       "      <th>x-box</th>\n",
       "      <th>y-box</th>\n",
       "      <th>width</th>\n",
       "      <th>height</th>\n",
       "      <th>onpix</th>\n",
       "      <th>x-bar</th>\n",
       "      <th>y-bar</th>\n",
       "      <th>x2bar</th>\n",
       "      <th>y2bar</th>\n",
       "      <th>xybar</th>\n",
       "      <th>x2ybr</th>\n",
       "      <th>xy2br</th>\n",
       "      <th>x-ege</th>\n",
       "      <th>xegvy</th>\n",
       "      <th>y-ege</th>\n",
       "      <th>yegvx</th>\n",
       "    </tr>\n",
       "  </thead>\n",
       "  <tbody>\n",
       "    <tr>\n",
       "      <th>0</th>\n",
       "      <td>T</td>\n",
       "      <td>2</td>\n",
       "      <td>8</td>\n",
       "      <td>3</td>\n",
       "      <td>5</td>\n",
       "      <td>1</td>\n",
       "      <td>8</td>\n",
       "      <td>13</td>\n",
       "      <td>0</td>\n",
       "      <td>6</td>\n",
       "      <td>6</td>\n",
       "      <td>10</td>\n",
       "      <td>8</td>\n",
       "      <td>0</td>\n",
       "      <td>8</td>\n",
       "      <td>0</td>\n",
       "      <td>8</td>\n",
       "    </tr>\n",
       "    <tr>\n",
       "      <th>1</th>\n",
       "      <td>I</td>\n",
       "      <td>5</td>\n",
       "      <td>12</td>\n",
       "      <td>3</td>\n",
       "      <td>7</td>\n",
       "      <td>2</td>\n",
       "      <td>10</td>\n",
       "      <td>5</td>\n",
       "      <td>5</td>\n",
       "      <td>4</td>\n",
       "      <td>13</td>\n",
       "      <td>3</td>\n",
       "      <td>9</td>\n",
       "      <td>2</td>\n",
       "      <td>8</td>\n",
       "      <td>4</td>\n",
       "      <td>10</td>\n",
       "    </tr>\n",
       "    <tr>\n",
       "      <th>2</th>\n",
       "      <td>D</td>\n",
       "      <td>4</td>\n",
       "      <td>11</td>\n",
       "      <td>6</td>\n",
       "      <td>8</td>\n",
       "      <td>6</td>\n",
       "      <td>10</td>\n",
       "      <td>6</td>\n",
       "      <td>2</td>\n",
       "      <td>6</td>\n",
       "      <td>10</td>\n",
       "      <td>3</td>\n",
       "      <td>7</td>\n",
       "      <td>3</td>\n",
       "      <td>7</td>\n",
       "      <td>3</td>\n",
       "      <td>9</td>\n",
       "    </tr>\n",
       "    <tr>\n",
       "      <th>3</th>\n",
       "      <td>N</td>\n",
       "      <td>7</td>\n",
       "      <td>11</td>\n",
       "      <td>6</td>\n",
       "      <td>6</td>\n",
       "      <td>3</td>\n",
       "      <td>5</td>\n",
       "      <td>9</td>\n",
       "      <td>4</td>\n",
       "      <td>6</td>\n",
       "      <td>4</td>\n",
       "      <td>4</td>\n",
       "      <td>10</td>\n",
       "      <td>6</td>\n",
       "      <td>10</td>\n",
       "      <td>2</td>\n",
       "      <td>8</td>\n",
       "    </tr>\n",
       "    <tr>\n",
       "      <th>4</th>\n",
       "      <td>G</td>\n",
       "      <td>2</td>\n",
       "      <td>1</td>\n",
       "      <td>3</td>\n",
       "      <td>1</td>\n",
       "      <td>1</td>\n",
       "      <td>8</td>\n",
       "      <td>6</td>\n",
       "      <td>6</td>\n",
       "      <td>6</td>\n",
       "      <td>6</td>\n",
       "      <td>5</td>\n",
       "      <td>9</td>\n",
       "      <td>1</td>\n",
       "      <td>7</td>\n",
       "      <td>5</td>\n",
       "      <td>10</td>\n",
       "    </tr>\n",
       "    <tr>\n",
       "      <th>...</th>\n",
       "      <td>...</td>\n",
       "      <td>...</td>\n",
       "      <td>...</td>\n",
       "      <td>...</td>\n",
       "      <td>...</td>\n",
       "      <td>...</td>\n",
       "      <td>...</td>\n",
       "      <td>...</td>\n",
       "      <td>...</td>\n",
       "      <td>...</td>\n",
       "      <td>...</td>\n",
       "      <td>...</td>\n",
       "      <td>...</td>\n",
       "      <td>...</td>\n",
       "      <td>...</td>\n",
       "      <td>...</td>\n",
       "      <td>...</td>\n",
       "    </tr>\n",
       "    <tr>\n",
       "      <th>19995</th>\n",
       "      <td>D</td>\n",
       "      <td>2</td>\n",
       "      <td>2</td>\n",
       "      <td>3</td>\n",
       "      <td>3</td>\n",
       "      <td>2</td>\n",
       "      <td>7</td>\n",
       "      <td>7</td>\n",
       "      <td>7</td>\n",
       "      <td>6</td>\n",
       "      <td>6</td>\n",
       "      <td>6</td>\n",
       "      <td>4</td>\n",
       "      <td>2</td>\n",
       "      <td>8</td>\n",
       "      <td>3</td>\n",
       "      <td>7</td>\n",
       "    </tr>\n",
       "    <tr>\n",
       "      <th>19996</th>\n",
       "      <td>C</td>\n",
       "      <td>7</td>\n",
       "      <td>10</td>\n",
       "      <td>8</td>\n",
       "      <td>8</td>\n",
       "      <td>4</td>\n",
       "      <td>4</td>\n",
       "      <td>8</td>\n",
       "      <td>6</td>\n",
       "      <td>9</td>\n",
       "      <td>12</td>\n",
       "      <td>9</td>\n",
       "      <td>13</td>\n",
       "      <td>2</td>\n",
       "      <td>9</td>\n",
       "      <td>3</td>\n",
       "      <td>7</td>\n",
       "    </tr>\n",
       "    <tr>\n",
       "      <th>19997</th>\n",
       "      <td>T</td>\n",
       "      <td>6</td>\n",
       "      <td>9</td>\n",
       "      <td>6</td>\n",
       "      <td>7</td>\n",
       "      <td>5</td>\n",
       "      <td>6</td>\n",
       "      <td>11</td>\n",
       "      <td>3</td>\n",
       "      <td>7</td>\n",
       "      <td>11</td>\n",
       "      <td>9</td>\n",
       "      <td>5</td>\n",
       "      <td>2</td>\n",
       "      <td>12</td>\n",
       "      <td>2</td>\n",
       "      <td>4</td>\n",
       "    </tr>\n",
       "    <tr>\n",
       "      <th>19998</th>\n",
       "      <td>S</td>\n",
       "      <td>2</td>\n",
       "      <td>3</td>\n",
       "      <td>4</td>\n",
       "      <td>2</td>\n",
       "      <td>1</td>\n",
       "      <td>8</td>\n",
       "      <td>7</td>\n",
       "      <td>2</td>\n",
       "      <td>6</td>\n",
       "      <td>10</td>\n",
       "      <td>6</td>\n",
       "      <td>8</td>\n",
       "      <td>1</td>\n",
       "      <td>9</td>\n",
       "      <td>5</td>\n",
       "      <td>8</td>\n",
       "    </tr>\n",
       "    <tr>\n",
       "      <th>19999</th>\n",
       "      <td>A</td>\n",
       "      <td>4</td>\n",
       "      <td>9</td>\n",
       "      <td>6</td>\n",
       "      <td>6</td>\n",
       "      <td>2</td>\n",
       "      <td>9</td>\n",
       "      <td>5</td>\n",
       "      <td>3</td>\n",
       "      <td>1</td>\n",
       "      <td>8</td>\n",
       "      <td>1</td>\n",
       "      <td>8</td>\n",
       "      <td>2</td>\n",
       "      <td>7</td>\n",
       "      <td>2</td>\n",
       "      <td>8</td>\n",
       "    </tr>\n",
       "  </tbody>\n",
       "</table>\n",
       "<p>20000 rows × 17 columns</p>\n",
       "</div>"
      ],
      "text/plain": [
       "      lettr  x-box  y-box  width  height  onpix  x-bar  y-bar  x2bar  y2bar  \\\n",
       "0         T      2      8      3       5      1      8     13      0      6   \n",
       "1         I      5     12      3       7      2     10      5      5      4   \n",
       "2         D      4     11      6       8      6     10      6      2      6   \n",
       "3         N      7     11      6       6      3      5      9      4      6   \n",
       "4         G      2      1      3       1      1      8      6      6      6   \n",
       "...     ...    ...    ...    ...     ...    ...    ...    ...    ...    ...   \n",
       "19995     D      2      2      3       3      2      7      7      7      6   \n",
       "19996     C      7     10      8       8      4      4      8      6      9   \n",
       "19997     T      6      9      6       7      5      6     11      3      7   \n",
       "19998     S      2      3      4       2      1      8      7      2      6   \n",
       "19999     A      4      9      6       6      2      9      5      3      1   \n",
       "\n",
       "       xybar  x2ybr  xy2br  x-ege  xegvy  y-ege  yegvx  \n",
       "0          6     10      8      0      8      0      8  \n",
       "1         13      3      9      2      8      4     10  \n",
       "2         10      3      7      3      7      3      9  \n",
       "3          4      4     10      6     10      2      8  \n",
       "4          6      5      9      1      7      5     10  \n",
       "...      ...    ...    ...    ...    ...    ...    ...  \n",
       "19995      6      6      4      2      8      3      7  \n",
       "19996     12      9     13      2      9      3      7  \n",
       "19997     11      9      5      2     12      2      4  \n",
       "19998     10      6      8      1      9      5      8  \n",
       "19999      8      1      8      2      7      2      8  \n",
       "\n",
       "[20000 rows x 17 columns]"
      ]
     },
     "execution_count": 55,
     "metadata": {},
     "output_type": "execute_result"
    }
   ],
   "source": [
    "df"
   ]
  },
  {
   "cell_type": "code",
   "execution_count": 37,
   "id": "f953a343",
   "metadata": {},
   "outputs": [],
   "source": [
    "x = df.drop(\"lettr\", axis=1).values\n",
    "y = df[\"lettr\"].values"
   ]
  },
  {
   "cell_type": "code",
   "execution_count": 38,
   "id": "ebb99e6e",
   "metadata": {},
   "outputs": [
    {
     "data": {
      "text/plain": [
       "(20000, 16)"
      ]
     },
     "execution_count": 38,
     "metadata": {},
     "output_type": "execute_result"
    }
   ],
   "source": [
    "x.shape"
   ]
  },
  {
   "cell_type": "code",
   "execution_count": 39,
   "id": "e2ae705e",
   "metadata": {},
   "outputs": [
    {
     "data": {
      "text/plain": [
       "(20000,)"
      ]
     },
     "execution_count": 39,
     "metadata": {},
     "output_type": "execute_result"
    }
   ],
   "source": [
    "y.shape"
   ]
  },
  {
   "cell_type": "code",
   "execution_count": 40,
   "id": "f089c357",
   "metadata": {},
   "outputs": [
    {
     "data": {
      "text/plain": [
       "array(['A', 'B', 'C', 'D', 'E', 'F', 'G', 'H', 'I', 'J', 'K', 'L', 'M',\n",
       "       'N', 'O', 'P', 'Q', 'R', 'S', 'T', 'U', 'V', 'W', 'X', 'Y', 'Z'],\n",
       "      dtype=object)"
      ]
     },
     "execution_count": 40,
     "metadata": {},
     "output_type": "execute_result"
    }
   ],
   "source": [
    "np.unique(y)"
   ]
  },
  {
   "cell_type": "code",
   "execution_count": 41,
   "id": "0a45a929",
   "metadata": {},
   "outputs": [],
   "source": [
    "x_train, x_test, y_train, y_test = train_test_split(x, y, test_size=0.2)"
   ]
  },
  {
   "cell_type": "code",
   "execution_count": 42,
   "id": "c54fac7e",
   "metadata": {},
   "outputs": [
    {
     "name": "stdout",
     "output_type": "stream",
     "text": [
      "Train Shape : (16000, 16)\n",
      "Test Shape : (4000, 16)\n",
      "y_train shape : (16000,)\n",
      "y_test shape : (4000,)\n"
     ]
    }
   ],
   "source": [
    "def shape():\n",
    "    print(\"Train Shape :\",x_train.shape)\n",
    "    print(\"Test Shape :\",x_test.shape)\n",
    "    print(\"y_train shape :\",y_train.shape)\n",
    "    print(\"y_test shape :\",y_test.shape)\n",
    "\n",
    "shape()"
   ]
  },
  {
   "cell_type": "code",
   "execution_count": 43,
   "id": "9df95e26",
   "metadata": {},
   "outputs": [
    {
     "data": {
      "text/plain": [
       "array([ 4,  6,  5,  4,  3,  6,  7,  6,  6, 10,  7, 11,  2,  9,  4, 10],\n",
       "      dtype=int64)"
      ]
     },
     "execution_count": 43,
     "metadata": {},
     "output_type": "execute_result"
    }
   ],
   "source": [
    " x_train[0]"
   ]
  },
  {
   "cell_type": "code",
   "execution_count": 44,
   "id": "03bd247a",
   "metadata": {},
   "outputs": [
    {
     "data": {
      "text/plain": [
       "'G'"
      ]
     },
     "execution_count": 44,
     "metadata": {},
     "output_type": "execute_result"
    }
   ],
   "source": [
    " y_train[0]"
   ]
  },
  {
   "cell_type": "code",
   "execution_count": 45,
   "id": "b7cea586",
   "metadata": {},
   "outputs": [],
   "source": [
    "class_names=['A', 'B', 'C', 'D', 'E', 'F', 'G', 'H', 'I', 'J', 'K', 'L', 'M','N', 'O', 'P', 'Q', 'R', 'S', 'T', 'U', 'V', 'W', 'X', 'Y', 'Z']"
   ]
  },
  {
   "cell_type": "code",
   "execution_count": 46,
   "id": "d62123e4",
   "metadata": {},
   "outputs": [
    {
     "data": {
      "text/plain": [
       "array([1, 1, 1, 3, 1, 8, 7, 1, 7, 7, 6, 7, 0, 8, 2, 7], dtype=int64)"
      ]
     },
     "execution_count": 46,
     "metadata": {},
     "output_type": "execute_result"
    }
   ],
   "source": [
    " x_test[10]"
   ]
  },
  {
   "cell_type": "code",
   "execution_count": 47,
   "id": "85f1e490",
   "metadata": {},
   "outputs": [
    {
     "data": {
      "text/plain": [
       "'I'"
      ]
     },
     "execution_count": 47,
     "metadata": {},
     "output_type": "execute_result"
    }
   ],
   "source": [
    " y_test[10]"
   ]
  },
  {
   "cell_type": "code",
   "execution_count": 48,
   "id": "6d0621b7",
   "metadata": {},
   "outputs": [],
   "source": [
    "x_train = x_train/255\n",
    "x_test = x_test/255"
   ]
  },
  {
   "cell_type": "code",
   "execution_count": 49,
   "id": "196aafc7",
   "metadata": {},
   "outputs": [],
   "source": [
    "from sklearn.preprocessing import LabelEncoder\n",
    "\n",
    "encoder = LabelEncoder()\n",
    "\n",
    "y_train = encoder.fit_transform(y_train)\n",
    "y_test = encoder.fit_transform(y_test)"
   ]
  },
  {
   "cell_type": "code",
   "execution_count": 50,
   "id": "fd5d5fde",
   "metadata": {},
   "outputs": [],
   "source": [
    "from tensorflow.keras.models import Sequential\n",
    "from tensorflow.keras.layers import Dense, Dropout"
   ]
  },
  {
   "cell_type": "code",
   "execution_count": 51,
   "id": "5baec4e4",
   "metadata": {},
   "outputs": [
    {
     "name": "stdout",
     "output_type": "stream",
     "text": [
      "Model: \"sequential_1\"\n",
      "_________________________________________________________________\n",
      " Layer (type)                Output Shape              Param #   \n",
      "=================================================================\n",
      " dense_3 (Dense)             (None, 512)               8704      \n",
      "                                                                 \n",
      " dropout_2 (Dropout)         (None, 512)               0         \n",
      "                                                                 \n",
      " dense_4 (Dense)             (None, 256)               131328    \n",
      "                                                                 \n",
      " dropout_3 (Dropout)         (None, 256)               0         \n",
      "                                                                 \n",
      " dense_5 (Dense)             (None, 26)                6682      \n",
      "                                                                 \n",
      "=================================================================\n",
      "Total params: 146,714\n",
      "Trainable params: 146,714\n",
      "Non-trainable params: 0\n",
      "_________________________________________________________________\n"
     ]
    }
   ],
   "source": [
    "model=Sequential()\n",
    "\n",
    "model.add(Dense(512, activation='relu', input_shape=(16,)))\n",
    "model.add(Dropout(0.2))\n",
    "\n",
    "model.add(Dense(256, activation='relu'))\n",
    "model.add(Dropout(0.2))\n",
    "\n",
    "model.add(Dense(26, activation='softmax'))\n",
    "\n",
    "model.compile(optimizer='adam', loss='sparse_categorical_crossentropy',metrics=['accuracy'])\n",
    "model.summary()"
   ]
  },
  {
   "cell_type": "code",
   "execution_count": 30,
   "id": "28b0b9cb",
   "metadata": {},
   "outputs": [
    {
     "name": "stdout",
     "output_type": "stream",
     "text": [
      "Epoch 1/50\n",
      "125/125 [==============================] - 3s 14ms/step - loss: 3.1353 - accuracy: 0.1417 - val_loss: 2.7796 - val_accuracy: 0.3365\n",
      "Epoch 2/50\n",
      "125/125 [==============================] - 1s 9ms/step - loss: 2.4021 - accuracy: 0.3093 - val_loss: 2.0943 - val_accuracy: 0.3975\n",
      "Epoch 3/50\n",
      "125/125 [==============================] - 1s 9ms/step - loss: 1.9826 - accuracy: 0.4036 - val_loss: 1.7947 - val_accuracy: 0.4787\n",
      "Epoch 4/50\n",
      "125/125 [==============================] - 1s 9ms/step - loss: 1.7777 - accuracy: 0.4526 - val_loss: 1.6322 - val_accuracy: 0.5188\n",
      "Epoch 5/50\n",
      "125/125 [==============================] - 1s 9ms/step - loss: 1.6394 - accuracy: 0.4999 - val_loss: 1.5203 - val_accuracy: 0.5558\n",
      "Epoch 6/50\n",
      "125/125 [==============================] - 1s 9ms/step - loss: 1.5405 - accuracy: 0.5364 - val_loss: 1.4453 - val_accuracy: 0.5745\n",
      "Epoch 7/50\n",
      "125/125 [==============================] - 1s 9ms/step - loss: 1.4779 - accuracy: 0.5577 - val_loss: 1.3735 - val_accuracy: 0.6080\n",
      "Epoch 8/50\n",
      "125/125 [==============================] - 1s 9ms/step - loss: 1.4108 - accuracy: 0.5794 - val_loss: 1.3158 - val_accuracy: 0.6270\n",
      "Epoch 9/50\n",
      "125/125 [==============================] - 1s 9ms/step - loss: 1.3523 - accuracy: 0.6022 - val_loss: 1.2574 - val_accuracy: 0.6405\n",
      "Epoch 10/50\n",
      "125/125 [==============================] - 1s 9ms/step - loss: 1.3027 - accuracy: 0.6186 - val_loss: 1.1993 - val_accuracy: 0.6625\n",
      "Epoch 11/50\n",
      "125/125 [==============================] - 1s 9ms/step - loss: 1.2487 - accuracy: 0.6327 - val_loss: 1.1515 - val_accuracy: 0.6827\n",
      "Epoch 12/50\n",
      "125/125 [==============================] - 1s 9ms/step - loss: 1.2060 - accuracy: 0.6428 - val_loss: 1.1030 - val_accuracy: 0.6835\n",
      "Epoch 13/50\n",
      "125/125 [==============================] - 1s 8ms/step - loss: 1.1617 - accuracy: 0.6559 - val_loss: 1.0604 - val_accuracy: 0.6877\n",
      "Epoch 14/50\n",
      "125/125 [==============================] - 1s 9ms/step - loss: 1.1219 - accuracy: 0.6662 - val_loss: 1.0215 - val_accuracy: 0.7095\n",
      "Epoch 15/50\n",
      "125/125 [==============================] - 1s 9ms/step - loss: 1.0832 - accuracy: 0.6756 - val_loss: 0.9809 - val_accuracy: 0.7182\n",
      "Epoch 16/50\n",
      "125/125 [==============================] - 1s 10ms/step - loss: 1.0553 - accuracy: 0.6845 - val_loss: 0.9501 - val_accuracy: 0.7278\n",
      "Epoch 17/50\n",
      "125/125 [==============================] - 1s 10ms/step - loss: 1.0158 - accuracy: 0.6998 - val_loss: 0.9222 - val_accuracy: 0.7262\n",
      "Epoch 18/50\n",
      "125/125 [==============================] - 1s 10ms/step - loss: 0.9952 - accuracy: 0.7044 - val_loss: 0.8833 - val_accuracy: 0.7400\n",
      "Epoch 19/50\n",
      "125/125 [==============================] - 1s 10ms/step - loss: 0.9610 - accuracy: 0.7141 - val_loss: 0.8598 - val_accuracy: 0.7490\n",
      "Epoch 20/50\n",
      "125/125 [==============================] - 1s 10ms/step - loss: 0.9357 - accuracy: 0.7182 - val_loss: 0.8517 - val_accuracy: 0.7490\n",
      "Epoch 21/50\n",
      "125/125 [==============================] - 1s 9ms/step - loss: 0.9117 - accuracy: 0.7259 - val_loss: 0.8134 - val_accuracy: 0.7680\n",
      "Epoch 22/50\n",
      "125/125 [==============================] - 1s 9ms/step - loss: 0.8833 - accuracy: 0.7363 - val_loss: 0.7902 - val_accuracy: 0.7715\n",
      "Epoch 23/50\n",
      "125/125 [==============================] - 1s 9ms/step - loss: 0.8734 - accuracy: 0.7352 - val_loss: 0.7780 - val_accuracy: 0.7663\n",
      "Epoch 24/50\n",
      "125/125 [==============================] - 1s 9ms/step - loss: 0.8512 - accuracy: 0.7431 - val_loss: 0.7498 - val_accuracy: 0.7810\n",
      "Epoch 25/50\n",
      "125/125 [==============================] - 1s 9ms/step - loss: 0.8349 - accuracy: 0.7446 - val_loss: 0.7458 - val_accuracy: 0.7782\n",
      "Epoch 26/50\n",
      "125/125 [==============================] - 1s 9ms/step - loss: 0.8200 - accuracy: 0.7484 - val_loss: 0.7154 - val_accuracy: 0.7922\n",
      "Epoch 27/50\n",
      "125/125 [==============================] - 1s 9ms/step - loss: 0.8065 - accuracy: 0.7531 - val_loss: 0.7018 - val_accuracy: 0.7950\n",
      "Epoch 28/50\n",
      "125/125 [==============================] - 1s 9ms/step - loss: 0.7836 - accuracy: 0.7607 - val_loss: 0.6985 - val_accuracy: 0.7903\n",
      "Epoch 29/50\n",
      "125/125 [==============================] - 1s 9ms/step - loss: 0.7724 - accuracy: 0.7629 - val_loss: 0.6729 - val_accuracy: 0.8020\n",
      "Epoch 30/50\n",
      "125/125 [==============================] - 1s 9ms/step - loss: 0.7634 - accuracy: 0.7660 - val_loss: 0.6575 - val_accuracy: 0.8015\n",
      "Epoch 31/50\n",
      "125/125 [==============================] - 1s 9ms/step - loss: 0.7445 - accuracy: 0.7722 - val_loss: 0.6449 - val_accuracy: 0.8145\n",
      "Epoch 32/50\n",
      "125/125 [==============================] - 1s 9ms/step - loss: 0.7314 - accuracy: 0.7749 - val_loss: 0.6413 - val_accuracy: 0.8142\n",
      "Epoch 33/50\n",
      "125/125 [==============================] - 1s 9ms/step - loss: 0.7180 - accuracy: 0.7796 - val_loss: 0.6147 - val_accuracy: 0.8190\n",
      "Epoch 34/50\n",
      "125/125 [==============================] - 1s 9ms/step - loss: 0.7092 - accuracy: 0.7829 - val_loss: 0.6212 - val_accuracy: 0.8127\n",
      "Epoch 35/50\n",
      "125/125 [==============================] - 1s 9ms/step - loss: 0.6996 - accuracy: 0.7879 - val_loss: 0.5998 - val_accuracy: 0.8292\n",
      "Epoch 36/50\n",
      "125/125 [==============================] - 1s 9ms/step - loss: 0.6760 - accuracy: 0.7937 - val_loss: 0.5893 - val_accuracy: 0.8250\n",
      "Epoch 37/50\n",
      "125/125 [==============================] - 2s 14ms/step - loss: 0.6723 - accuracy: 0.7903 - val_loss: 0.5716 - val_accuracy: 0.8355\n",
      "Epoch 38/50\n",
      "125/125 [==============================] - 1s 8ms/step - loss: 0.6625 - accuracy: 0.7948 - val_loss: 0.5588 - val_accuracy: 0.8338\n",
      "Epoch 39/50\n",
      "125/125 [==============================] - 1s 9ms/step - loss: 0.6487 - accuracy: 0.7983 - val_loss: 0.5538 - val_accuracy: 0.8405\n",
      "Epoch 40/50\n",
      "125/125 [==============================] - 1s 8ms/step - loss: 0.6424 - accuracy: 0.7999 - val_loss: 0.5498 - val_accuracy: 0.8372\n",
      "Epoch 41/50\n",
      "125/125 [==============================] - 1s 8ms/step - loss: 0.6251 - accuracy: 0.8059 - val_loss: 0.5250 - val_accuracy: 0.8470\n",
      "Epoch 42/50\n",
      "125/125 [==============================] - 1s 9ms/step - loss: 0.6141 - accuracy: 0.8078 - val_loss: 0.5191 - val_accuracy: 0.8453\n",
      "Epoch 43/50\n",
      "125/125 [==============================] - 1s 9ms/step - loss: 0.6084 - accuracy: 0.8129 - val_loss: 0.5244 - val_accuracy: 0.8450\n",
      "Epoch 44/50\n",
      "125/125 [==============================] - 1s 9ms/step - loss: 0.5959 - accuracy: 0.8153 - val_loss: 0.4981 - val_accuracy: 0.8528\n",
      "Epoch 45/50\n",
      "125/125 [==============================] - 1s 9ms/step - loss: 0.5894 - accuracy: 0.8180 - val_loss: 0.5026 - val_accuracy: 0.8497\n",
      "Epoch 46/50\n",
      "125/125 [==============================] - 1s 9ms/step - loss: 0.5747 - accuracy: 0.8219 - val_loss: 0.4859 - val_accuracy: 0.8553\n",
      "Epoch 47/50\n",
      "125/125 [==============================] - 1s 9ms/step - loss: 0.5749 - accuracy: 0.8207 - val_loss: 0.4798 - val_accuracy: 0.8633\n",
      "Epoch 48/50\n",
      "125/125 [==============================] - 1s 9ms/step - loss: 0.5607 - accuracy: 0.8284 - val_loss: 0.4639 - val_accuracy: 0.8680\n",
      "Epoch 49/50\n",
      "125/125 [==============================] - 1s 10ms/step - loss: 0.5529 - accuracy: 0.8288 - val_loss: 0.4769 - val_accuracy: 0.8553\n",
      "Epoch 50/50\n",
      "125/125 [==============================] - 1s 8ms/step - loss: 0.5485 - accuracy: 0.8309 - val_loss: 0.4506 - val_accuracy: 0.8658\n"
     ]
    },
    {
     "data": {
      "text/plain": [
       "<keras.callbacks.History at 0x24e88749060>"
      ]
     },
     "execution_count": 30,
     "metadata": {},
     "output_type": "execute_result"
    }
   ],
   "source": [
    "model.fit(x_train, y_train, epochs=50, batch_size=128, verbose=1,validation_data=(x_test, y_test))"
   ]
  },
  {
   "cell_type": "code",
   "execution_count": 31,
   "id": "e96ffbfb",
   "metadata": {},
   "outputs": [
    {
     "name": "stdout",
     "output_type": "stream",
     "text": [
      "125/125 [==============================] - 1s 3ms/step\n"
     ]
    }
   ],
   "source": [
    " predictions = model.predict(x_test)"
   ]
  },
  {
   "cell_type": "code",
   "execution_count": 32,
   "id": "156e7820",
   "metadata": {},
   "outputs": [
    {
     "name": "stdout",
     "output_type": "stream",
     "text": [
      "[3.8210567e-11 2.3441545e-27 1.7369923e-05 4.3192802e-12 3.9025032e-19\n",
      " 9.3194992e-12 8.0663282e-11 5.5684964e-06 1.0162436e-12 1.5553801e-10\n",
      " 5.0411372e-16 2.6287056e-12 1.0553427e-15 1.6873156e-10 8.5646207e-05\n",
      " 1.0225622e-13 6.9662651e-06 1.0563283e-25 1.4153850e-10 3.7627174e-07\n",
      " 9.9987626e-01 7.5093258e-06 2.2150668e-15 1.9098850e-12 4.6218568e-07\n",
      " 9.3401656e-22]\n",
      "Actual label : 20\n",
      "Predicted label : 20\n",
      "Class (A-Z) : U\n"
     ]
    }
   ],
   "source": [
    "index=10\n",
    "\n",
    "print(predictions[index])\n",
    "\n",
    "final_value=np.argmax(predictions[index])\n",
    "\n",
    "print(\"Actual label :\",y_test[index])\n",
    "print(\"Predicted label :\",final_value)\n",
    "print(\"Class (A-Z) :\",class_names[final_value])"
   ]
  },
  {
   "cell_type": "code",
   "execution_count": 23,
   "id": "3358fd60",
   "metadata": {},
   "outputs": [
    {
     "name": "stdout",
     "output_type": "stream",
     "text": [
      "125/125 [==============================] - 0s 2ms/step - loss: 0.4920 - accuracy: 0.8495\n",
      "Loss : 0.4919666647911072\n",
      "Accuracy (Test Data) : 84.95000004768372\n"
     ]
    }
   ],
   "source": [
    "loss, accuracy = model.evaluate(x_test, y_test)\n",
    "\n",
    "print(\"Loss :\",loss)\n",
    "print(\"Accuracy (Test Data) :\",accuracy*100)"
   ]
  }
 ],
 "metadata": {
  "kernelspec": {
   "display_name": "Python 3 (ipykernel)",
   "language": "python",
   "name": "python3"
  },
  "language_info": {
   "codemirror_mode": {
    "name": "ipython",
    "version": 3
   },
   "file_extension": ".py",
   "mimetype": "text/x-python",
   "name": "python",
   "nbconvert_exporter": "python",
   "pygments_lexer": "ipython3",
   "version": "3.10.11"
  }
 },
 "nbformat": 4,
 "nbformat_minor": 5
}
