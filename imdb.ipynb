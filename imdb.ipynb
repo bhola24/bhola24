{
 "cells": [
  {
   "cell_type": "code",
   "execution_count": 25,
   "id": "f812dcea",
   "metadata": {},
   "outputs": [],
   "source": [
    "from tensorflow.keras.datasets import imdb"
   ]
  },
  {
   "cell_type": "code",
   "execution_count": 26,
   "id": "9273e7d2",
   "metadata": {},
   "outputs": [],
   "source": [
    "(x_train, y_train), (x_test, y_test) = imdb.load_data(num_words=10000)"
   ]
  },
  {
   "cell_type": "code",
   "execution_count": 27,
   "id": "23a7e231",
   "metadata": {},
   "outputs": [
    {
     "name": "stdout",
     "output_type": "stream",
     "text": [
      "Train Shape : (25000,)\n",
      "Test Shape : (25000,)\n"
     ]
    }
   ],
   "source": [
    "print(\"Train Shape :\",x_train.shape)\n",
    "print(\"Test Shape :\",x_test.shape)"
   ]
  },
  {
   "cell_type": "code",
   "execution_count": 28,
   "id": "5ad8bcd0",
   "metadata": {},
   "outputs": [
    {
     "name": "stdout",
     "output_type": "stream",
     "text": [
      "y_train shape : (25000,)\n",
      "y_test shape : (25000,)\n"
     ]
    }
   ],
   "source": [
    "print(\"y_train shape :\",y_train.shape)\n",
    "print(\"y_test shape :\",y_test.shape)"
   ]
  },
  {
   "cell_type": "code",
   "execution_count": 29,
   "id": "f7cdaa8e",
   "metadata": {},
   "outputs": [
    {
     "name": "stdout",
     "output_type": "stream",
     "text": [
      "[1, 194, 1153, 194, 8255, 78, 228, 5, 6, 1463, 4369, 5012, 134, 26, 4, 715, 8, 118, 1634, 14, 394, 20, 13, 119, 954, 189, 102, 5, 207, 110, 3103, 21, 14, 69, 188, 8, 30, 23, 7, 4, 249, 126, 93, 4, 114, 9, 2300, 1523, 5, 647, 4, 116, 9, 35, 8163, 4, 229, 9, 340, 1322, 4, 118, 9, 4, 130, 4901, 19, 4, 1002, 5, 89, 29, 952, 46, 37, 4, 455, 9, 45, 43, 38, 1543, 1905, 398, 4, 1649, 26, 6853, 5, 163, 11, 3215, 2, 4, 1153, 9, 194, 775, 7, 8255, 2, 349, 2637, 148, 605, 2, 8003, 15, 123, 125, 68, 2, 6853, 15, 349, 165, 4362, 98, 5, 4, 228, 9, 43, 2, 1157, 15, 299, 120, 5, 120, 174, 11, 220, 175, 136, 50, 9, 4373, 228, 8255, 5, 2, 656, 245, 2350, 5, 4, 9837, 131, 152, 491, 18, 2, 32, 7464, 1212, 14, 9, 6, 371, 78, 22, 625, 64, 1382, 9, 8, 168, 145, 23, 4, 1690, 15, 16, 4, 1355, 5, 28, 6, 52, 154, 462, 33, 89, 78, 285, 16, 145, 95]\n"
     ]
    }
   ],
   "source": [
    "print(x_train[1])"
   ]
  },
  {
   "cell_type": "code",
   "execution_count": 30,
   "id": "9e8921f4",
   "metadata": {},
   "outputs": [
    {
     "name": "stdout",
     "output_type": "stream",
     "text": [
      "0\n"
     ]
    }
   ],
   "source": [
    "print(y_train[1])"
   ]
  },
  {
   "cell_type": "code",
   "execution_count": 31,
   "id": "2f60cc93",
   "metadata": {},
   "outputs": [
    {
     "name": "stdout",
     "output_type": "stream",
     "text": [
      "1\n"
     ]
    }
   ],
   "source": [
    "vocab=imdb.get_word_index()\n",
    "print(vocab['the'])"
   ]
  },
  {
   "cell_type": "code",
   "execution_count": 32,
   "id": "a8de6f40",
   "metadata": {},
   "outputs": [],
   "source": [
    "class_names=['Negative', 'Positive']"
   ]
  },
  {
   "cell_type": "code",
   "execution_count": 33,
   "id": "784f739b",
   "metadata": {},
   "outputs": [],
   "source": [
    "reverse_index = dict([(value, key) for (key, value) in vocab.items()])"
   ]
  },
  {
   "cell_type": "code",
   "execution_count": 34,
   "id": "2957d714",
   "metadata": {},
   "outputs": [],
   "source": [
    "def decode(review):\n",
    "    text=\"\"\n",
    "    for i in review:\n",
    "        text=text+reverse_index[i]\n",
    "        text=text+\" \"\n",
    "    return text"
   ]
  },
  {
   "cell_type": "code",
   "execution_count": 35,
   "id": "c0486df5",
   "metadata": {},
   "outputs": [
    {
     "data": {
      "text/plain": [
       "\"the thought solid thought senator do making to is spot nomination assumed while he of jack in where picked as getting on was did hands fact characters to always life thrillers not as me can't in at are br of sure your way of little it strongly random to view of love it so principles of guy it used producer of where it of here icon film of outside to don't all unique some like of direction it if out her imagination below keep of queen he diverse to makes this stretch and of solid it thought begins br senator and budget worthwhile though ok and awaiting for ever better were and diverse for budget look kicked any to of making it out and follows for effects show to show cast this family us scenes more it severe making senator to and finds tv tend to of emerged these thing wants but and an beckinsale cult as it is video do you david see scenery it in few those are of ship for with of wild to one is very work dark they don't do dvd with those them \""
      ]
     },
     "execution_count": 35,
     "metadata": {},
     "output_type": "execute_result"
    }
   ],
   "source": [
    " decode(x_train[1])"
   ]
  },
  {
   "cell_type": "code",
   "execution_count": 36,
   "id": "709e17f5",
   "metadata": {},
   "outputs": [
    {
     "name": "stdout",
     "output_type": "stream",
     "text": [
      "Length of first training sample:  218\n",
      "Length of second training sample:  189\n",
      "Length of first test sample:  68\n",
      "Length of second test sample:  260\n"
     ]
    }
   ],
   "source": [
    "def showlen():\n",
    "    print(\"Length of first training sample: \",len(x_train[0]))\n",
    "    print(\"Length of second training sample: \",len(x_train[1]))\n",
    "    print(\"Length of first test sample: \",len(x_test[0]))\n",
    "    print(\"Length of second test sample: \",len(x_test[1]))\n",
    "\n",
    "showlen()"
   ]
  },
  {
   "cell_type": "code",
   "execution_count": 37,
   "id": "8798127d",
   "metadata": {},
   "outputs": [],
   "source": [
    "from tensorflow.keras.preprocessing.sequence import pad_sequences\n",
    "\n",
    "x_train=pad_sequences(x_train, value=vocab['the'], padding='post', maxlen=256)\n",
    "x_test=pad_sequences(x_test, value=vocab['the'], padding='post', maxlen=256)"
   ]
  },
  {
   "cell_type": "code",
   "execution_count": 38,
   "id": "630065b0",
   "metadata": {},
   "outputs": [
    {
     "name": "stdout",
     "output_type": "stream",
     "text": [
      "Length of first training sample:  256\n",
      "Length of second training sample:  256\n",
      "Length of first test sample:  256\n",
      "Length of second test sample:  256\n"
     ]
    }
   ],
   "source": [
    "showlen()"
   ]
  },
  {
   "cell_type": "code",
   "execution_count": 39,
   "id": "521b1b2d",
   "metadata": {},
   "outputs": [
    {
     "data": {
      "text/plain": [
       "\"the thought solid thought senator do making to is spot nomination assumed while he of jack in where picked as getting on was did hands fact characters to always life thrillers not as me can't in at are br of sure your way of little it strongly random to view of love it so principles of guy it used producer of where it of here icon film of outside to don't all unique some like of direction it if out her imagination below keep of queen he diverse to makes this stretch and of solid it thought begins br senator and budget worthwhile though ok and awaiting for ever better were and diverse for budget look kicked any to of making it out and follows for effects show to show cast this family us scenes more it severe making senator to and finds tv tend to of emerged these thing wants but and an beckinsale cult as it is video do you david see scenery it in few those are of ship for with of wild to one is very work dark they don't do dvd with those them the the the the the the the the the the the the the the the the the the the the the the the the the the the the the the the the the the the the the the the the the the the the the the the the the the the the the the the the the the the the the the the the the the the \""
      ]
     },
     "execution_count": 39,
     "metadata": {},
     "output_type": "execute_result"
    }
   ],
   "source": [
    "decode(x_train[1])"
   ]
  },
  {
   "cell_type": "code",
   "execution_count": 40,
   "id": "0046ff68",
   "metadata": {},
   "outputs": [],
   "source": [
    "from tensorflow.keras.models import Sequential\n",
    "from tensorflow.keras.layers import Dense, Embedding, GlobalAveragePooling1D"
   ]
  },
  {
   "cell_type": "code",
   "execution_count": 41,
   "id": "fc23a327",
   "metadata": {},
   "outputs": [
    {
     "name": "stdout",
     "output_type": "stream",
     "text": [
      "Model: \"sequential_1\"\n",
      "_________________________________________________________________\n",
      " Layer (type)                Output Shape              Param #   \n",
      "=================================================================\n",
      " embedding_1 (Embedding)     (None, None, 16)          160000    \n",
      "                                                                 \n",
      " global_average_pooling1d_1   (None, 16)               0         \n",
      " (GlobalAveragePooling1D)                                        \n",
      "                                                                 \n",
      " dense_2 (Dense)             (None, 16)                272       \n",
      "                                                                 \n",
      " dense_3 (Dense)             (None, 1)                 17        \n",
      "                                                                 \n",
      "=================================================================\n",
      "Total params: 160,289\n",
      "Trainable params: 160,289\n",
      "Non-trainable params: 0\n",
      "_________________________________________________________________\n"
     ]
    }
   ],
   "source": [
    "model=Sequential()\n",
    "\n",
    "model.add(Embedding(10000,16))\n",
    "model.add(GlobalAveragePooling1D())\n",
    "\n",
    "model.add(Dense(16,activation='relu'))\n",
    "model.add(Dense(1,activation='sigmoid'))\n",
    "\n",
    "model.compile(optimizer='adam', loss='binary_crossentropy',metrics=['accuracy'])\n",
    "\n",
    "model.summary()"
   ]
  },
  {
   "cell_type": "code",
   "execution_count": 42,
   "id": "3fd74ea2",
   "metadata": {},
   "outputs": [
    {
     "name": "stdout",
     "output_type": "stream",
     "text": [
      "Epoch 1/4\n",
      "196/196 [==============================] - 5s 16ms/step - loss: 0.6688 - accuracy: 0.7038 - val_loss: 0.6092 - val_accuracy: 0.7805\n",
      "Epoch 2/4\n",
      "196/196 [==============================] - 3s 15ms/step - loss: 0.4893 - accuracy: 0.8351 - val_loss: 0.4036 - val_accuracy: 0.8537\n",
      "Epoch 3/4\n",
      "196/196 [==============================] - 3s 16ms/step - loss: 0.3311 - accuracy: 0.8812 - val_loss: 0.3269 - val_accuracy: 0.8680\n",
      "Epoch 4/4\n",
      "196/196 [==============================] - 3s 16ms/step - loss: 0.2671 - accuracy: 0.9007 - val_loss: 0.2974 - val_accuracy: 0.8793\n"
     ]
    },
    {
     "data": {
      "text/plain": [
       "<keras.callbacks.History at 0x28f45f1b460>"
      ]
     },
     "execution_count": 42,
     "metadata": {},
     "output_type": "execute_result"
    }
   ],
   "source": [
    " model.fit(x_train, y_train, epochs=4, batch_size=128, verbose=1,validation_data=(x_test, y_test))"
   ]
  },
  {
   "cell_type": "code",
   "execution_count": 43,
   "id": "a0afc203",
   "metadata": {},
   "outputs": [
    {
     "data": {
      "text/plain": [
       "array([   1, 1581,   34, 7908, 5082,   23,    6, 1374, 1120,    7,  107,\n",
       "        349,    2, 1496,   11, 5116,   18,  397, 3767,    7,    4,  107,\n",
       "         84, 6763,   56,   68,  456, 1402,    2,   39,    4, 1374,    9,\n",
       "         35,  204,    5,   55, 4412,  212,  193,   23,    4,  326,   45,\n",
       "          6, 1109,    8, 1738,    2,   15,   29,  199, 1040,    5, 2684,\n",
       "         11,   14, 1403,  212, 1528,   10,   10, 2160,    2,    9,    4,\n",
       "        452,   37,    2,    4,  598,  425,    5,   45, 4394,  138,   59,\n",
       "        214,  467,    4, 2391,    7, 1738,    2,   19,   41, 2455, 3028,\n",
       "          5, 6866, 1489,   90,  180,   18,  101, 1403,    2, 1514, 5257,\n",
       "          9,    4,  564,  871,  322,   47, 2586,   27,  274,  326,    5,\n",
       "          9,  150,  112,    2,   17,    6,   87,  162, 2133,   60, 3256,\n",
       "         23,    4, 7999,  123,    8,   11,    2,   29,  144,   30, 2961,\n",
       "       1346,    2,  214,    4,  326,    7,    2, 1496,    8, 3767,  533,\n",
       "          7,  134,    2, 6229,   10,   10,    7,  265,  285,    5,  233,\n",
       "         70,  593,   54,  564, 4124,    2, 1625,   27, 1546,    2,   19,\n",
       "          2, 1008,   18,   89,    4,  114, 3209,    5,   45, 1139,   32,\n",
       "          4,   96,  143, 3760,  958,    7,  919,    5, 7611,  367,    4,\n",
       "         96,   17,   73,   17,    6,   52,  855,    7,  836,   10,   10,\n",
       "         18,    2,    7,  328,  212,   14,   31,    9, 5523,    8,  591,\n",
       "          1,    1,    1,    1,    1,    1,    1,    1,    1,    1,    1,\n",
       "          1,    1,    1,    1,    1,    1,    1,    1,    1,    1,    1,\n",
       "          1,    1,    1,    1,    1,    1,    1,    1,    1,    1,    1,\n",
       "          1,    1,    1,    1,    1,    1,    1,    1,    1,    1,    1,\n",
       "          1,    1,    1])"
      ]
     },
     "execution_count": 43,
     "metadata": {},
     "output_type": "execute_result"
    }
   ],
   "source": [
    " x_test[10]"
   ]
  },
  {
   "cell_type": "code",
   "execution_count": 44,
   "id": "ba6e95ff",
   "metadata": {},
   "outputs": [
    {
     "data": {
      "text/plain": [
       "1"
      ]
     },
     "execution_count": 44,
     "metadata": {},
     "output_type": "execute_result"
    }
   ],
   "source": [
    " y_test[10]"
   ]
  },
  {
   "cell_type": "code",
   "execution_count": 45,
   "id": "e8d0ca9a",
   "metadata": {},
   "outputs": [
    {
     "name": "stdout",
     "output_type": "stream",
     "text": [
      "1/1 [==============================] - 0s 136ms/step\n",
      "[[0.8142819]]\n",
      "1\n",
      "Positive\n"
     ]
    }
   ],
   "source": [
    "import numpy as np\n",
    "\n",
    "predicted_value=model.predict(np.expand_dims(x_test[10], 0))\n",
    "\n",
    "print(predicted_value)\n",
    "\n",
    "if predicted_value>0.5:\n",
    "    final_value=1\n",
    "else:\n",
    "    final_value=0\n",
    "\n",
    "print(final_value)\n",
    "print(class_names[final_value])"
   ]
  },
  {
   "cell_type": "code",
   "execution_count": 46,
   "id": "e290d603",
   "metadata": {},
   "outputs": [
    {
     "name": "stdout",
     "output_type": "stream",
     "text": [
      "782/782 [==============================] - 2s 3ms/step - loss: 0.2974 - accuracy: 0.8793\n",
      "Loss : 0.2973695993423462\n",
      "Accuracy (Test Data) : 87.92799711227417\n"
     ]
    }
   ],
   "source": [
    "loss, accuracy = model.evaluate(x_test, y_test)\n",
    "\n",
    "print(\"Loss :\",loss)\n",
    "print(\"Accuracy (Test Data) :\",accuracy*100)"
   ]
  },
  {
   "cell_type": "code",
   "execution_count": null,
   "id": "a0d54f90",
   "metadata": {},
   "outputs": [],
   "source": []
  }
 ],
 "metadata": {
  "kernelspec": {
   "display_name": "Python 3 (ipykernel)",
   "language": "python",
   "name": "python3"
  },
  "language_info": {
   "codemirror_mode": {
    "name": "ipython",
    "version": 3
   },
   "file_extension": ".py",
   "mimetype": "text/x-python",
   "name": "python",
   "nbconvert_exporter": "python",
   "pygments_lexer": "ipython3",
   "version": "3.9.13"
  }
 },
 "nbformat": 4,
 "nbformat_minor": 5
}
